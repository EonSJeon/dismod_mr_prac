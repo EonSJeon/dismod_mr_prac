{
 "cells": [
  {
   "cell_type": "code",
   "execution_count": 24,
   "metadata": {},
   "outputs": [
    {
     "name": "stdout",
     "output_type": "stream",
     "text": [
      "Saved 'prevalence' sheet to 'prevalence.csv'.\n"
     ]
    }
   ],
   "source": [
    "import pandas as pd\n",
    "\n",
    "# Read the 'prevalence' sheet using openpyxl\n",
    "df = pd.read_excel(\n",
    "    'full_data.xlsx',\n",
    "    sheet_name='Prevalence',\n",
    "    engine='openpyxl'\n",
    ")\n",
    "\n",
    "# Save to CSV\n",
    "df.to_csv('prevalence.csv', index=False)\n",
    "\n",
    "print(\"Saved 'prevalence' sheet to 'prevalence.csv'.\")\n"
   ]
  },
  {
   "cell_type": "code",
   "execution_count": 25,
   "metadata": {},
   "outputs": [
    {
     "name": "stdout",
     "output_type": "stream",
     "text": [
      "Done — all PMIDs filled and saved to 'prevalence_filled.csv'.\n"
     ]
    }
   ],
   "source": [
    "import pandas as pd\n",
    "\n",
    "# 1. Load the sheet (use openpyxl for .xlsx)\n",
    "df = pd.read_csv('prevalence.csv')\n",
    "\n",
    "# 2. Forward-fill PMID so every row has the correct value\n",
    "df['PMID'] = df['PMID'].ffill()\n",
    "\n",
    "# 3. Save to CSV\n",
    "df.to_csv('prevalence.csv', index=False)\n",
    "\n",
    "print(\"Done — all PMIDs filled and saved to 'prevalence_filled.csv'.\")\n"
   ]
  },
  {
   "cell_type": "code",
   "execution_count": 26,
   "metadata": {},
   "outputs": [
    {
     "name": "stdout",
     "output_type": "stream",
     "text": [
      "Saved with columns: index, sex, area, effective_sample_size, data_type, value, standard_error, age_start, age_end, year_start, year_end.\n"
     ]
    }
   ],
   "source": [
    "import pandas as pd\n",
    "\n",
    "# 1. Load and reset index\n",
    "df = pd.read_csv('prevalence.csv').reset_index(drop=True)\n",
    "\n",
    "# 2. Drop rows where any of these are NA: age_start, age_end, year_start, year_end, Sample size, proportion\n",
    "df = df.dropna(subset=[\n",
    "    'age_start', 'age_end', \n",
    "    'year_start', 'year_end',\n",
    "    'Sample size', 'proportion'\n",
    "])\n",
    "\n",
    "# 3. Cast age and year columns to integers\n",
    "for c in ['age_start','age_end','year_start','year_end']:\n",
    "    df[c] = df[c].astype(int)\n",
    "\n",
    "# 4. Build 'area' from Nation (if non-NA) otherwise Region\n",
    "df['area'] = df['Nation'].fillna(df['Region'])\n",
    "\n",
    "# 5. Set constant data_type = 'p'\n",
    "df['data_type'] = 'p'\n",
    "\n",
    "# 6. Lowercase sex\n",
    "df['sex'] = df['Sex'].str.lower()\n",
    "\n",
    "# 7. Reset index into its own column, then select & reorder\n",
    "out = df.reset_index()[[\n",
    "    'index',\n",
    "    'sex',\n",
    "    'area',\n",
    "    'Sample size',\n",
    "    'data_type',\n",
    "    'proportion',\n",
    "    'standard error',\n",
    "    'age_start',\n",
    "    'age_end',\n",
    "    'year_start',\n",
    "    'year_end'\n",
    "]].rename(columns={\n",
    "    'Sample size':    'effective_sample_size',\n",
    "    'proportion':     'value',\n",
    "    'standard error': 'standard_error'\n",
    "})\n",
    "\n",
    "# 8. Save final CSV\n",
    "out.to_csv('prevalence.csv', index=False)\n",
    "\n",
    "print(\"Saved with columns: index, sex, area, effective_sample_size, data_type, value, standard_error, age_start, age_end, year_start, year_end.\")\n"
   ]
  },
  {
   "cell_type": "code",
   "execution_count": 27,
   "metadata": {},
   "outputs": [
    {
     "name": "stdout",
     "output_type": "stream",
     "text": [
      "['US' 'Austrailia' 'Netherland' 'Finland' 'Barbados' 'Italy' 'Greece'\n",
      " 'Japan' 'France' 'Iceland' 'India' 'China' '7 countries' 'Norway'\n",
      " 'Estonia' 'Northern Ireland' 'Spain' 'Greenland' 'Brazil' 'Taiwan'\n",
      " 'Singapore' 'Thailand' 'UK' 'South Korea' 'United Kingdom' 'Germany'\n",
      " 'Kenya' 'Netherlands' 'Ireland' 'Algeria' 'Portugal' 'Slovakia' 'Russia'\n",
      " 'Iran']\n"
     ]
    }
   ],
   "source": [
    "import pandas as pd\n",
    "\n",
    "# Load the CSV\n",
    "df = pd.read_csv('prevalence.csv')\n",
    "\n",
    "# # Re-create your 'area' logic\n",
    "# df['area'] = df['Nation'].fillna(df['Region'])\n",
    "\n",
    "# Print unique area values\n",
    "print(df['area'].unique())\n"
   ]
  },
  {
   "cell_type": "code",
   "execution_count": 28,
   "metadata": {},
   "outputs": [
    {
     "name": "stdout",
     "output_type": "stream",
     "text": [
      "   area\n",
      "0   USA\n",
      "1   AUS\n",
      "2   NLD\n",
      "3   FIN\n",
      "4   BRB\n",
      "5   ITA\n",
      "6   GRC\n",
      "7   JPN\n",
      "8   FRA\n",
      "9   ISL\n",
      "10  IND\n",
      "11  CHN\n",
      "12  NaN\n",
      "13  NOR\n",
      "14  EST\n",
      "15  GBR\n",
      "16  ESP\n",
      "17  GRL\n",
      "18  BRA\n",
      "19  TWN\n",
      "20  SGP\n",
      "21  THA\n",
      "22  KOR\n",
      "23  DEU\n",
      "24  KEN\n",
      "25  IRL\n",
      "26  DZA\n",
      "27  PRT\n",
      "28  SVK\n",
      "29  RUS\n",
      "30  IRN\n"
     ]
    }
   ],
   "source": [
    "# area 문자열 → ISO3 코드 매핑표\n",
    "area_to_iso = {\n",
    "    'US':                 'USA',\n",
    "    'Austrailia':         'AUS',\n",
    "    'Netherland':         'NLD',\n",
    "    'Netherlands':        'NLD',\n",
    "    'Finland':            'FIN',\n",
    "    'Barbados':           'BRB',\n",
    "    'Italy':              'ITA',\n",
    "    'Greece':             'GRC',\n",
    "    'Japan':              'JPN',\n",
    "    'France':             'FRA',\n",
    "    'Iceland':            'ISL',\n",
    "    'India':              'IND',\n",
    "    'China':              'CHN',\n",
    "    'Norway':             'NOR',\n",
    "    'Estonia':            'EST',\n",
    "    'Northern Ireland':   'GBR', \n",
    "    'Spain':              'ESP',\n",
    "    'Greenland':          'GRL',\n",
    "    'Brazil':             'BRA',\n",
    "    'Taiwan':             'TWN',\n",
    "    'Singapore':          'SGP',\n",
    "    'Thailand':           'THA',\n",
    "    'UK':                 'GBR',\n",
    "    'United Kingdom':     'GBR',\n",
    "    'South Korea':        'KOR',\n",
    "    'Germany':            'DEU',\n",
    "    'Kenya':              'KEN',\n",
    "    'Ireland':            'IRL',\n",
    "    'Algeria':            'DZA',\n",
    "    'Portugal':           'PRT',\n",
    "    'Slovakia':           'SVK',\n",
    "    'Russia':             'RUS',\n",
    "    'Iran':               'IRN'\n",
    "}\n",
    "\n",
    "# 적용 예시\n",
    "import pandas as pd\n",
    "\n",
    "df = pd.read_csv('prevalence.csv')\n",
    "# 기존 area 컬럼 재생성 로직\n",
    "\n",
    "df['area'] = df['area'].map(area_to_iso)\n",
    "\n",
    "# 3. Save to CSV\n",
    "df.to_csv('prevalence.csv', index=False)\n",
    "\n",
    "print(df[['area']].drop_duplicates().reset_index(drop=True))\n"
   ]
  },
  {
   "cell_type": "code",
   "execution_count": 9,
   "metadata": {},
   "outputs": [
    {
     "name": "stdout",
     "output_type": "stream",
     "text": [
      "Adjusted 0 rows where 'value' was zero.\n",
      "Removed 2 rows where 'value' exceeded 1.\n"
     ]
    }
   ],
   "source": [
    "import pandas as pd\n",
    "import numpy as np\n",
    "\n",
    "# 1. Load the CSV\n",
    "df = pd.read_csv('input_data.csv')\n",
    "\n",
    "# 2. Find rows where value == 0 and fix\n",
    "mask_zero = df['value'] == 0\n",
    "df.loc[mask_zero, 'value'] = 1 / (2 * df.loc[mask_zero, 'effective_sample_size'])\n",
    "df.loc[mask_zero, 'standard_error'] = np.sqrt(\n",
    "    df.loc[mask_zero, 'value'] * (1 - df.loc[mask_zero, 'value']) / df.loc[mask_zero, 'effective_sample_size']\n",
    ")\n",
    "\n",
    "# 3. Cast effective_sample_size to integer\n",
    "df['effective_sample_size'] = df['effective_sample_size'].astype(int)\n",
    "\n",
    "# 4. Drop rows where value > 1\n",
    "mask_gt1 = df['value'] > 1\n",
    "num_gt1 = mask_gt1.sum()\n",
    "df = df[~mask_gt1]\n",
    "\n",
    "# 5. Report counts\n",
    "print(f\"Adjusted {mask_zero.sum()} rows where 'value' was zero.\")\n",
    "print(f\"Removed {num_gt1} rows where 'value' exceeded 1.\")\n",
    "\n",
    "# 6. Save back to CSV\n",
    "df.to_csv('input_data.csv', index=False)\n"
   ]
  },
  {
   "cell_type": "code",
   "execution_count": 11,
   "metadata": {},
   "outputs": [
    {
     "name": "stdout",
     "output_type": "stream",
     "text": [
      "Removed 0 rows with missing area.\n",
      "Removed 0 rows where 'value' exceeded 1.\n",
      "Adjusted 0 rows where 'value' was zero.\n"
     ]
    }
   ],
   "source": [
    "import pandas as pd\n",
    "import numpy as np\n",
    "\n",
    "# 1. Load the CSV\n",
    "df = pd.read_csv('input_data.csv')\n",
    "\n",
    "# 2. Drop rows where 'area' is missing or empty\n",
    "mask_noarea = df['area'].isna() | (df['area'].astype(str).str.strip() == '')\n",
    "num_noarea = mask_noarea.sum()\n",
    "df = df[~mask_noarea]\n",
    "print(f\"Removed {num_noarea} rows with missing area.\")\n",
    "\n",
    "# 2.5. Replace Greenland (GRL) with Denmark (DNK)\n",
    "df.loc[df['area'] == 'GRL', 'area'] = 'DNK'\n",
    "\n",
    "# 3. Find rows where value == 0 and fix\n",
    "mask_zero = df['value'] == 0\n",
    "df.loc[mask_zero, 'value'] = 1 / (2 * df.loc[mask_zero, 'effective_sample_size'])\n",
    "df.loc[mask_zero, 'standard_error'] = np.sqrt(\n",
    "    df.loc[mask_zero, 'value'] * (1 - df.loc[mask_zero, 'value']) / df.loc[mask_zero, 'effective_sample_size']\n",
    ")\n",
    "\n",
    "# 4. Cast effective_sample_size to integer\n",
    "df['effective_sample_size'] = df['effective_sample_size'].astype(int)\n",
    "\n",
    "# 5. Drop rows where value > 1\n",
    "mask_gt1 = df['value'] > 1\n",
    "num_gt1 = mask_gt1.sum()\n",
    "df = df[~mask_gt1]\n",
    "print(f\"Removed {num_gt1} rows where 'value' exceeded 1.\")\n",
    "print(f\"Adjusted {mask_zero.sum()} rows where 'value' was zero.\")\n",
    "\n",
    "# 6. Save back to CSV\n",
    "df.to_csv('input_data.csv', index=False)\n"
   ]
  },
  {
   "cell_type": "code",
   "execution_count": null,
   "metadata": {},
   "outputs": [],
   "source": []
  }
 ],
 "metadata": {
  "kernelspec": {
   "display_name": "dismod_mr",
   "language": "python",
   "name": "python3"
  },
  "language_info": {
   "codemirror_mode": {
    "name": "ipython",
    "version": 3
   },
   "file_extension": ".py",
   "mimetype": "text/x-python",
   "name": "python",
   "nbconvert_exporter": "python",
   "pygments_lexer": "ipython3",
   "version": "3.6.15"
  }
 },
 "nbformat": 4,
 "nbformat_minor": 2
}
